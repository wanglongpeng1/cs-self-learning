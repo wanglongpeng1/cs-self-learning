{
  "cells": [
    {
      "cell_type": "code",
      "execution_count": 1,
      "metadata": {
        "id": "_i_LBBK1lmar"
      },
      "outputs": [],
      "source": [
        "from IPython.display import clear_output"
      ]
    },
    {
      "cell_type": "code",
      "execution_count": 2,
      "metadata": {
        "id": "r2LQsvnPkoJI",
        "outputId": "cd4444c6-3445-45b8-e3aa-57d1258a5d67",
        "colab": {
          "base_uri": "https://localhost:8080/"
        }
      },
      "outputs": [
        {
          "output_type": "stream",
          "name": "stdout",
          "text": [
            "--2024-04-16 03:03:16--  http://emodb.bilderbar.info/download/download.zip\n",
            "Resolving emodb.bilderbar.info (emodb.bilderbar.info)... 85.13.147.80\n",
            "Connecting to emodb.bilderbar.info (emodb.bilderbar.info)|85.13.147.80|:80... connected.\n",
            "HTTP request sent, awaiting response... 200 OK\n",
            "Length: 40567066 (39M) [application/zip]\n",
            "Saving to: ‘EMO-DB.zip’\n",
            "\n",
            "EMO-DB.zip          100%[===================>]  38.69M  5.89MB/s    in 5.6s    \n",
            "\n",
            "2024-04-16 03:03:23 (6.86 MB/s) - ‘EMO-DB.zip’ saved [40567066/40567066]\n",
            "\n"
          ]
        }
      ],
      "source": [
        "!wget -O EMO-DB.zip http://emodb.bilderbar.info/download/download.zip"
      ]
    },
    {
      "cell_type": "code",
      "execution_count": 3,
      "metadata": {
        "id": "OM8oeS2akwiG"
      },
      "outputs": [],
      "source": [
        "!git clone https://github.com/AryaAftab/LIGHT-SERNET.git\n",
        "\n",
        "!mv /content/EMO-DB.zip /content/LIGHT-SERNET/data\n",
        "!unzip /content/LIGHT-SERNET/data/EMO-DB.zip -d /content/LIGHT-SERNET/data/EMO-DB\n",
        "\n",
        "clear_output()"
      ]
    },
    {
      "cell_type": "code",
      "execution_count": 4,
      "metadata": {
        "id": "_V9x3Nv7k-Oa"
      },
      "outputs": [],
      "source": [
        "import os\n",
        "\n",
        "os.chdir(\"/content/LIGHT-SERNET\")"
      ]
    },
    {
      "cell_type": "code",
      "execution_count": null,
      "metadata": {
        "id": "4r6j1jhqmT80",
        "outputId": "f1feb6e1-9d91-49da-ec01-0e25c4e75a0d",
        "colab": {
          "base_uri": "https://localhost:8080/"
        }
      },
      "outputs": [
        {
          "output_type": "stream",
          "name": "stdout",
          "text": [
            ".................................. Segment Dataset Started .......................................\n",
            "************************* EMO-DB *************************\n",
            "535it [00:01, 443.16it/s]\n",
            "0it [00:01, ?it/s]\n",
            ".................................. Segment Dataset finished ......................................\n",
            "******************************************** Fold : 1 ********************************************\n",
            "Time : [3 : 3 : 46]\n",
            "  0% 0/300 [00:00<?, ?it/s]WARNING: All log messages before absl::InitializeLog() is called are written to STDERR\n",
            "I0000 00:00:1713236637.287621     678 device_compiler.h:186] Compiled cluster using XLA!  This line is logged at most once for the lifetime of the process.\n",
            "Epoch : 300 / 300, Train accuracy : 1.0, Valid accuracy : 0.8776: 100% 300/300 [02:20<00:00,  2.18it/s]\n",
            "Best weights is set, Best Epoch was : 201\n",
            "\n",
            "2/2 [==============================] - 0s 7ms/step\n",
            "Test Accuracy :  0.9387755102040817\n",
            "Time(sec) :  146.88428616523743\n",
            "******************************************** Fold : 2 ********************************************\n",
            "Time : [3 : 6 : 12]\n",
            "Epoch : 300 / 300, Train accuracy : 1.0, Valid accuracy : 0.8776: 100% 300/300 [02:20<00:00,  2.13it/s]\n",
            "Epoch : 196 / 300, Train accuracy : 1.0, Valid accuracy : 0.8966:  65% 196/300 [01:25<00:38,  2.70it/s]"
          ]
        }
      ],
      "source": [
        "!python train.py -dn \"EMO-DB\" -id 3 -at \"all\" -ln \"cross_entropy\" -v 0 -it \"mfcc\" -c \"ram\" -m true"
      ]
    },
    {
      "cell_type": "code",
      "execution_count": null,
      "metadata": {
        "id": "05cC19rtIUL2"
      },
      "outputs": [],
      "source": []
    }
  ],
  "metadata": {
    "accelerator": "GPU",
    "colab": {
      "name": "Demo-Light-SERNet.ipynb",
      "provenance": []
    },
    "kernelspec": {
      "display_name": "Python 3",
      "language": "python",
      "name": "python3"
    },
    "language_info": {
      "codemirror_mode": {
        "name": "ipython",
        "version": 3
      },
      "file_extension": ".py",
      "mimetype": "text/x-python",
      "name": "python",
      "nbconvert_exporter": "python",
      "pygments_lexer": "ipython3",
      "version": "3.8.12"
    }
  },
  "nbformat": 4,
  "nbformat_minor": 0
}